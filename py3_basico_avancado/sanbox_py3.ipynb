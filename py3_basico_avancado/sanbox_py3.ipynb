{
 "cells": [
  {
   "cell_type": "markdown",
   "metadata": {},
   "source": [
    "# SandBox para testes em aula do curso Básico ao Avançado em PY3"
   ]
  },
  {
   "cell_type": "markdown",
   "metadata": {},
   "source": [
    "## Seção 2: Python Básico (lógica de programação)"
   ]
  },
  {
   "cell_type": "code",
   "execution_count": 2,
   "metadata": {},
   "outputs": [],
   "source": [
    "nome = 'Victor'\n",
    "idade = 30\n",
    "altura = 1.75\n",
    "massa = 64.5\n",
    "ano_atual = 2021\n",
    "ano_nascimento = ano_atual - idade\n",
    "imc = round(massa / (altura ** 2), 2)\n",
    "e_maior = idade > 18"
   ]
  },
  {
   "cell_type": "code",
   "execution_count": 3,
   "metadata": {},
   "outputs": [
    {
     "name": "stdout",
     "output_type": "stream",
     "text": [
      "Victor tem 30 anos de idade e seu imc é 21.06\n",
      "Victor tem 30 anos de idade e seu imc é 21.06\n",
      "Victor tem 30 anos de idade e seu imc é 21.06\n",
      "Victor tem 30 anos de idade e seu imc é 21.06\n",
      "2021: Victor, nascido em 1991 tem 30 anos de idade, é maior de idade, possui 64.5 kg de massa corpórea e 1.75 m de altura resultando em IMC = 21.06\n"
     ]
    }
   ],
   "source": [
    "print(f'{nome} tem {idade} anos de idade e seu imc é {imc:.2f}')\n",
    "print('{} tem {} anos de idade e seu imc é {:.2f}'.format(nome, idade, imc))\n",
    "print('{1} tem {2} anos de idade e seu imc é {0:.2f}'.format(imc, nome, idade))\n",
    "print('{n} tem {i} anos de idade e seu imc é {im:.2f}'.format(im=imc, n=nome, i=idade))\n",
    "\n",
    "if e_maior:\n",
    "    print('{4}: {0}, nascido em {5} tem {1} anos de idade, é maior de idade, possui {3} '\n",
    "          'kg de massa corpórea e {2} m de altura resultando em IMC = {6}'\n",
    "          .format(nome, idade,altura, massa, ano_atual, ano_nascimento, imc))\n",
    "else:\n",
    "    print('{4}: {0}, nascido em {5} tem {1} anos de idade, não é maior de idade, possui {3} '\n",
    "          'kg de massa corpórea e {2} m de altura resultando em IMC = {6}'\n",
    "          .format(nome, idade, altura, massa, ano_atual, ano_nascimento, imc))"
   ]
  },
  {
   "cell_type": "code",
   "execution_count": 4,
   "metadata": {},
   "outputs": [
    {
     "name": "stdout",
     "output_type": "stream",
     "text": [
      "Qual seu nome? Victor\n",
      "O usuário digitou: Victor, do tipo <class 'str'>\n"
     ]
    }
   ],
   "source": [
    "nome = str(input('Qual seu nome? '))\n",
    "print('O usuário digitou: {}, do tipo {}'.format(nome, type(nome)))"
   ]
  },
  {
   "cell_type": "code",
   "execution_count": 7,
   "metadata": {},
   "outputs": [
    {
     "name": "stdout",
     "output_type": "stream",
     "text": [
      "True\n",
      "True\n",
      "True\n",
      "False\n"
     ]
    }
   ],
   "source": [
    "import re\n",
    " \n",
    "def is_float(val):\n",
    "    if isinstance(val, float): return True\n",
    "    if re.search(r'^\\-{,1}[0-9]+\\.{1}[0-9]+$', val): return True\n",
    " \n",
    "    return False\n",
    " \n",
    "def is_int(val):\n",
    "    if isinstance(val, int): return True\n",
    "    if re.search(r'^\\-{,1}[0-9]+$', val): return True\n",
    " \n",
    "    return False\n",
    " \n",
    "def is_number(val):\n",
    "    return is_int(val) or is_float(val)\n",
    " \n",
    "###########\n",
    "#  USAGE  #\n",
    "###########\n",
    " \n",
    "# Float\n",
    "print(is_float('-101.0112'))  # True\n",
    "# Int\n",
    "print(is_int('-1010112'))  # True\n",
    "# Numbers in general (float ou int)\n",
    "print(is_number('-1010.112'))  # True\n",
    " \n",
    "# False\n",
    "print(is_number('123a'))  # False"
   ]
  },
  {
   "cell_type": "code",
   "execution_count": 8,
   "metadata": {},
   "outputs": [
    {
     "name": "stdout",
     "output_type": "stream",
     "text": [
      "Digite um número: 2\n",
      "Digite outro número: -2\n",
      "True False\n",
      "True False\n",
      "True False\n",
      "0.0\n"
     ]
    }
   ],
   "source": [
    "num1 = input('Digite um número: ')\n",
    "num2 = input('Digite outro número: ')\n",
    "\n",
    "# isnumeric isdigit isdecimal\n",
    "\n",
    "print(num1.isnumeric(), num2.isnumeric())\n",
    "print(num1.isdecimal(), num2.isdecimal())\n",
    "print(num1.isdigit(), num2.isdigit())\n",
    "\n",
    "try:\n",
    "    num1 = float(num1)\n",
    "    num2 = float(num2)\n",
    "    print(num1 + num2)\n",
    "except:\n",
    "    print('Erro')"
   ]
  },
  {
   "cell_type": "code",
   "execution_count": 11,
   "metadata": {},
   "outputs": [],
   "source": [
    "valor = True\n",
    "\n",
    "if valor:\n",
    "    pass\n",
    "else:\n",
    "    print('Falso')\n",
    "    \n",
    "if valor:\n",
    "    ...\n",
    "else:\n",
    "    print('Falso')"
   ]
  },
  {
   "cell_type": "code",
   "execution_count": 16,
   "metadata": {},
   "outputs": [
    {
     "name": "stdout",
     "output_type": "stream",
     "text": [
      "Digite um número inteiro: -2\n",
      "O numero digitado é par!\n"
     ]
    }
   ],
   "source": [
    "numero = input('Digite um número inteiro: ')\n",
    "e_inteiro = is_int(numero)\n",
    "\n",
    "while e_inteiro == False:\n",
    "    numero = input('Errado, digite um número inteiro: ')\n",
    "    e_inteiro = is_int(numero)\n",
    "\n",
    "if (int(numero) % 2 == 0):\n",
    "    print('O numero digitado é par!')\n",
    "else:\n",
    "    print('O numero digitado é impar!')\n",
    "    "
   ]
  },
  {
   "cell_type": "code",
   "execution_count": 44,
   "metadata": {},
   "outputs": [
    {
     "name": "stdout",
     "output_type": "stream",
     "text": [
      "Digite a hora: 12:30\n",
      "Boa tarde!\n"
     ]
    }
   ],
   "source": [
    "import datetime as dt\n",
    "\n",
    "horario = input('Digite a hora: ')\n",
    "\n",
    "try:\n",
    "    [horas, minutos] = [int(x) for x in horario.split(':')]\n",
    "    horario = dt.time(hour = horas, minute = minutos)\n",
    "except:\n",
    "    print('Erro de horário')\n",
    "\n",
    "if horario.hour < 12:\n",
    "    print('Bom dia!')\n",
    "if (horario.hour >= 12) and (horario.hour < 18):\n",
    "    print('Boa tarde!')\n",
    "if (horario.hour >= 18):\n",
    "    print('Boa noite!')\n"
   ]
  },
  {
   "cell_type": "code",
   "execution_count": 48,
   "metadata": {},
   "outputs": [
    {
     "name": "stdout",
     "output_type": "stream",
     "text": [
      "Digite seu nome: Ana\n",
      "Seu nome é curto.\n"
     ]
    }
   ],
   "source": [
    "nome = input('Digite seu nome: ')\n",
    "\n",
    "if len(nome) <= 4:\n",
    "    print('Seu nome é curto.')\n",
    "elif len(nome) > 6:\n",
    "    print('Seu nome é muito grande.')\n",
    "else:\n",
    "    print('Seu nome é normal.')"
   ]
  },
  {
   "cell_type": "code",
   "execution_count": 20,
   "metadata": {},
   "outputs": [
    {
     "name": "stdout",
     "output_type": "stream",
     "text": [
      "3.33\n",
      "Victor\n",
      "########10.00########\n",
      "Victor@@@@ Victor@@@@ Victor@@@@ Victor@@@@ Victor@@@@\n",
      "Victor@@@@@@@@@@@@@@\n",
      "victor\n",
      "VICTOR\n",
      "Victor\n"
     ]
    }
   ],
   "source": [
    "num1 = 10\n",
    "num2 = 3\n",
    "divisao = num1 / num2\n",
    "\n",
    "nome = 'Victor'\n",
    "\n",
    "nome_formatado = '{n:@<10} {n:@<10} {n:@<10} {n:@<10} {n:@<10}'.format(n=nome)\n",
    "\n",
    "nome_ljust = nome.ljust(20, '@')\n",
    "\n",
    "print('{:.2f}'.format(divisao))\n",
    "print(f'{nome:s}')\n",
    "print(f'{num1:#^21.2f}')\n",
    "print(nome_formatado)\n",
    "print(nome_ljust)\n",
    "print(nome.lower())\n",
    "print(nome.upper())\n",
    "print(nome.title())"
   ]
  },
  {
   "cell_type": "code",
   "execution_count": 30,
   "metadata": {},
   "outputs": [
    {
     "name": "stdout",
     "output_type": "stream",
     "text": [
      "t\n",
      "th\n",
      "Python\n",
      "thon 3.9.2\n",
      "thon 3.\n",
      "to .\n"
     ]
    }
   ],
   "source": [
    "texto = 'Python 3.9.2'\n",
    "\n",
    "print(texto[2])\n",
    "print(texto[2:4])\n",
    "print(texto[:6])\n",
    "print(texto[2:])\n",
    "print(texto[2:-3])\n",
    "print(texto[2:-3:2])  # Carctere 2 ao -3 de 2 em 2"
   ]
  },
  {
   "cell_type": "code",
   "execution_count": null,
   "metadata": {},
   "outputs": [],
   "source": []
  },
  {
   "cell_type": "code",
   "execution_count": null,
   "metadata": {},
   "outputs": [],
   "source": []
  },
  {
   "cell_type": "code",
   "execution_count": null,
   "metadata": {},
   "outputs": [],
   "source": []
  },
  {
   "cell_type": "code",
   "execution_count": null,
   "metadata": {},
   "outputs": [],
   "source": []
  },
  {
   "cell_type": "code",
   "execution_count": null,
   "metadata": {},
   "outputs": [],
   "source": []
  },
  {
   "cell_type": "code",
   "execution_count": null,
   "metadata": {},
   "outputs": [],
   "source": []
  },
  {
   "cell_type": "code",
   "execution_count": null,
   "metadata": {},
   "outputs": [],
   "source": []
  },
  {
   "cell_type": "code",
   "execution_count": null,
   "metadata": {},
   "outputs": [],
   "source": []
  },
  {
   "cell_type": "code",
   "execution_count": null,
   "metadata": {},
   "outputs": [],
   "source": []
  },
  {
   "cell_type": "code",
   "execution_count": null,
   "metadata": {},
   "outputs": [],
   "source": []
  },
  {
   "cell_type": "code",
   "execution_count": null,
   "metadata": {},
   "outputs": [],
   "source": []
  },
  {
   "cell_type": "code",
   "execution_count": null,
   "metadata": {},
   "outputs": [],
   "source": []
  },
  {
   "cell_type": "code",
   "execution_count": null,
   "metadata": {},
   "outputs": [],
   "source": []
  },
  {
   "cell_type": "code",
   "execution_count": null,
   "metadata": {},
   "outputs": [],
   "source": []
  },
  {
   "cell_type": "code",
   "execution_count": null,
   "metadata": {},
   "outputs": [],
   "source": []
  },
  {
   "cell_type": "code",
   "execution_count": null,
   "metadata": {},
   "outputs": [],
   "source": []
  },
  {
   "cell_type": "code",
   "execution_count": null,
   "metadata": {},
   "outputs": [],
   "source": []
  },
  {
   "cell_type": "code",
   "execution_count": null,
   "metadata": {},
   "outputs": [],
   "source": []
  },
  {
   "cell_type": "code",
   "execution_count": null,
   "metadata": {},
   "outputs": [],
   "source": []
  },
  {
   "cell_type": "markdown",
   "metadata": {
    "heading_collapsed": true
   },
   "source": [
    "## Seção 3: Python Intermediário (programação procedural)"
   ]
  },
  {
   "cell_type": "code",
   "execution_count": null,
   "metadata": {
    "hidden": true
   },
   "outputs": [],
   "source": []
  }
 ],
 "metadata": {
  "kernelspec": {
   "display_name": "Python 3",
   "language": "python",
   "name": "python3"
  },
  "language_info": {
   "codemirror_mode": {
    "name": "ipython",
    "version": 3
   },
   "file_extension": ".py",
   "mimetype": "text/x-python",
   "name": "python",
   "nbconvert_exporter": "python",
   "pygments_lexer": "ipython3",
   "version": "3.8.2"
  },
  "toc": {
   "base_numbering": 1,
   "nav_menu": {},
   "number_sections": true,
   "sideBar": true,
   "skip_h1_title": false,
   "title_cell": "Table of Contents",
   "title_sidebar": "Contents",
   "toc_cell": false,
   "toc_position": {},
   "toc_section_display": true,
   "toc_window_display": false
  },
  "varInspector": {
   "cols": {
    "lenName": 16,
    "lenType": 16,
    "lenVar": 40
   },
   "kernels_config": {
    "python": {
     "delete_cmd_postfix": "",
     "delete_cmd_prefix": "del ",
     "library": "var_list.py",
     "varRefreshCmd": "print(var_dic_list())"
    },
    "r": {
     "delete_cmd_postfix": ") ",
     "delete_cmd_prefix": "rm(",
     "library": "var_list.r",
     "varRefreshCmd": "cat(var_dic_list()) "
    }
   },
   "types_to_exclude": [
    "module",
    "function",
    "builtin_function_or_method",
    "instance",
    "_Feature"
   ],
   "window_display": false
  }
 },
 "nbformat": 4,
 "nbformat_minor": 4
}
